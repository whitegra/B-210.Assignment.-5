{
  "nbformat": 4,
  "nbformat_minor": 0,
  "metadata": {
    "colab": {
      "provenance": []
    },
    "kernelspec": {
      "name": "python3",
      "display_name": "Python 3"
    },
    "language_info": {
      "name": "python"
    }
  },
  "cells": [
    {
      "cell_type": "markdown",
      "source": [
        "User defined function for prime numbers\n"
      ],
      "metadata": {
        "id": "KtNbJEy66e51"
      }
    },
    {
      "cell_type": "code",
      "source": [
        "def prime_num():\n",
        "    while True:\n",
        "      # START BY ELIMINATING PRIME NUMS FIRST\n",
        "        try:\n",
        "            user_num = input(\"Enter the first number: \")\n",
        "            # to make sure integer is positive\n",
        "            if user_num[0] == \"-\":\n",
        "                print(\"You have entered a negative integer. Please try again.\")\n",
        "                continue\n",
        "\n",
        "            # define numbers as integers to handle ValueErrors\n",
        "            user_num = int(user_num)\n",
        "\n",
        "        # in case the user doesn't enter an integer\n",
        "        except ValueError:\n",
        "            print(\"Please neter an integer.\")\n",
        "            continue\n",
        "\n",
        "        # to find all prime numbers:\n",
        "        for number in range(2, user_num + 1):\n",
        "          # start with 2 - user_num, iterate by 1 ...\n",
        "          # then for the number in the range if its divisible by 2 then its NOT prime\n",
        "            for i in range(2, number):\n",
        "               if number % i == 0:\n",
        "                break\n",
        "            # if its prime then print (not divisible by 2)\n",
        "            else:\n",
        "              print(number)\n",
        "        break\n",
        "\n",
        "        run_again = input('Would you like to run prime_nums again?: ')\n",
        "        if run_again != 'y':\n",
        "         break\n"
      ],
      "metadata": {
        "id": "sjPlH45Q6jAP"
      },
      "execution_count": 42,
      "outputs": []
    },
    {
      "cell_type": "markdown",
      "source": [
        "User defined function for Pascals's triangle\n",
        "\n",
        "*   idk if the calculation is right or if the starting value is right but at least its pyramidish\n"
      ],
      "metadata": {
        "id": "RUUlkGe16jwd"
      }
    },
    {
      "cell_type": "code",
      "source": [
        "def pascals_triangle():\n",
        "  # same as usual\n",
        "  while True:\n",
        "\n",
        "    try:\n",
        "      user_rows = input(\"Enter the number of rows: \")\n",
        "\n",
        "      if user_rows[0] == '-':\n",
        "        print(\"Please enter a positie integer. \")\n",
        "        continue\n",
        "\n",
        "      user_rows = int(user_rows)\n",
        "    except ValueError:\n",
        "      print(\"Please enter an integer.\")\n",
        "      continue\n",
        "\n",
        "    for i in range(user_rows): #ROW NUM\n",
        "        # print a space and then rows - current rw - 1 and then end with a space\n",
        "        # like 10 = 10 then 9 then 8 etc i think so space row space then space row - 1 space until it gets to the top\n",
        "        print(\" \" * (user_rows - i - 1), end=\"\")\n",
        "\n",
        "        # start at the first row\n",
        "        starting_row = 1 #STARTING POSITION AT 1 ?\n",
        "\n",
        "        # THEN FOR EACH POSITION (j) (wont work w/ other variable)\n",
        "        # VALUE + 1 EACH TIME\n",
        "        for j in range(i + 1):\n",
        "            # PRINT THE CURRENT ROW AND END WITH A SPACE TO MAKE TRIANGLE\n",
        "            print(starting_row, end=\" \")\n",
        "\n",
        "            # THEN FIND THE NEXT VALUE IN THE ROW USING THE FORMULA\n",
        "            starting_row = starting_row * (i - j) // (j + 1)   # apparenlty this is the correct formula\n",
        "\n",
        "        # print and hope it works\n",
        "        print()\n",
        "    break\n",
        "\n",
        "    run_again = input('run program again?')\n",
        "    if run_agani != 'y':\n",
        "      break\n",
        ""
      ],
      "metadata": {
        "id": "g2k4Qg0T6myz"
      },
      "execution_count": 55,
      "outputs": []
    },
    {
      "cell_type": "markdown",
      "source": [
        "NOTES ?"
      ],
      "metadata": {
        "id": "Ks9nWzTwKXOu"
      }
    },
    {
      "cell_type": "code",
      "source": [
        "\n",
        "# ok so say theres 5 rows\n",
        "# ----*----    1\n",
        "# ---***---   3      # FOR ROWS: so start with space, then go row - current row - 1 on each side then space,\n",
        "# --*****--   5      # FOR ELEMENTS: need another varibale(j i think or n ) for the row position, then current row(i) to next element so +1 on each side...\n",
        "# -*******-  7       # FOR VALUES: need another varibale for value in position in row so nested loop...\n",
        "# ********* 9        # for the value you need to multiply by something apparently so need to set starting value to something what\n",
        "\n",
        "# FORMULA = (row number (let it be i) - position (let it be j or n?)) divided by (position + the row number) ??????????? sure\n"
      ],
      "metadata": {
        "id": "hSLZF77hQWx7"
      },
      "execution_count": 39,
      "outputs": []
    },
    {
      "cell_type": "markdown",
      "source": [
        "MAIN"
      ],
      "metadata": {
        "id": "dO3ARkky6m6z"
      }
    },
    {
      "cell_type": "code",
      "source": [
        "while True:\n",
        "  # for user to chose the program\n",
        "  program_choice = input(\"Enter the program you would like to run: ('p' for prime nums or 't' for pascals triangle: )\")\n",
        "\n",
        "  # in case user enters an invalid program choice\n",
        "  if program_choice != 't' and program_choice != 'p':\n",
        "    print(\"Invalid choice. Please try again. \")\n",
        "    continue\n",
        "\n",
        "  # FOR PRIME NUMBER CALCULATOR\n",
        "  elif program_choice == 'p':\n",
        "    prime_num()\n",
        "\n",
        "\n",
        "  # FOR PASCALS TRIANGLE\n",
        "  elif program_choice == 't':\n",
        "    pascals_triangle()\n",
        "\n",
        "  # invlaid choice\n",
        "  else:\n",
        "    print(\"invalid choice. Please try again. /n\")\n",
        "    continue\n",
        "\n",
        "\n",
        "# run program again (while loop)\n",
        "  run_program_again = input(\"Would you like to run the program again? ('y' for yes, 'stop' to exit): \")\n",
        "  if run_program_again != 'y':\n",
        "    break\n",
        "\n"
      ],
      "metadata": {
        "colab": {
          "base_uri": "https://localhost:8080/"
        },
        "id": "PigllSA56n41",
        "outputId": "2cf5b3f9-5871-4129-a73f-c4a2fbe9481a"
      },
      "execution_count": 56,
      "outputs": [
        {
          "name": "stdout",
          "output_type": "stream",
          "text": [
            "Enter the program you would like to run: ('p' for prime nums or 't' for pascals triangle: )t\n",
            "Enter the number of rows: 10\n",
            "         1 \n",
            "        1 1 \n",
            "       1 2 1 \n",
            "      1 3 3 1 \n",
            "     1 4 6 4 1 \n",
            "    1 5 10 10 5 1 \n",
            "   1 6 15 20 15 6 1 \n",
            "  1 7 21 35 35 21 7 1 \n",
            " 1 8 28 56 70 56 28 8 1 \n",
            "1 9 36 84 126 126 84 36 9 1 \n",
            "Would you like to run the program again? ('y' for yes, 'stop' to exit): y\n",
            "Enter the program you would like to run: ('p' for prime nums or 't' for pascals triangle: )t\n",
            "Enter the number of rows: 7\n",
            "      1 \n",
            "     1 1 \n",
            "    1 2 1 \n",
            "   1 3 3 1 \n",
            "  1 4 6 4 1 \n",
            " 1 5 10 10 5 1 \n",
            "1 6 15 20 15 6 1 \n",
            "Would you like to run the program again? ('y' for yes, 'stop' to exit): y\n",
            "Enter the program you would like to run: ('p' for prime nums or 't' for pascals triangle: )t\n",
            "Enter the number of rows: 5\n",
            "    1 \n",
            "   1 1 \n",
            "  1 2 1 \n",
            " 1 3 3 1 \n",
            "1 4 6 4 1 \n",
            "Would you like to run the program again? ('y' for yes, 'stop' to exit): y\n",
            "Enter the program you would like to run: ('p' for prime nums or 't' for pascals triangle: )t\n",
            "Enter the number of rows: 3\n",
            "  1 \n",
            " 1 1 \n",
            "1 2 1 \n",
            "Would you like to run the program again? ('y' for yes, 'stop' to exit): y\n",
            "Enter the program you would like to run: ('p' for prime nums or 't' for pascals triangle: )p\n",
            "Enter the first number: 100\n",
            "2\n",
            "3\n",
            "5\n",
            "7\n",
            "11\n",
            "13\n",
            "17\n",
            "19\n",
            "23\n",
            "29\n",
            "31\n",
            "37\n",
            "41\n",
            "43\n",
            "47\n",
            "53\n",
            "59\n",
            "61\n",
            "67\n",
            "71\n",
            "73\n",
            "79\n",
            "83\n",
            "89\n",
            "97\n",
            "Would you like to run the program again? ('y' for yes, 'stop' to exit): stop\n"
          ]
        }
      ]
    }
  ]
}