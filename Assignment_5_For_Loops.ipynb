{
  "nbformat": 4,
  "nbformat_minor": 0,
  "metadata": {
    "colab": {
      "provenance": []
    },
    "kernelspec": {
      "name": "python3",
      "display_name": "Python 3"
    },
    "language_info": {
      "name": "python"
    }
  },
  "cells": [
    {
      "cell_type": "markdown",
      "source": [
        "User defined function for prime numbers"
      ],
      "metadata": {
        "id": "KtNbJEy66e51"
      }
    },
    {
      "cell_type": "code",
      "source": [
        "def prime_num():\n",
        "    while True:\n",
        "        try:\n",
        "            user_num = input(\"Enter the first number: \")\n",
        "            # to make sure integer is positive\n",
        "            if user_num[0] == \"-\":\n",
        "                print(\"You have entered a negative integer. Please try again.\")\n",
        "                continue\n",
        "\n",
        "            # define numbers as integers to handle ValueErrors\n",
        "            user_num = int(user_num)\n",
        "\n",
        "        # in case the user doesn't enter an integer\n",
        "        except ValueError:\n",
        "            print(\"Please neter an integer.\")\n",
        "            continue\n",
        "\n",
        "        # to find all prime numbers:\n",
        "        for number in range(2, user_num + 1):\n",
        "            for i in range(2, number):\n",
        "               if number % i == 0:\n",
        "                break\n",
        "            else:\n",
        "              print(number)\n",
        "        break\n"
      ],
      "metadata": {
        "id": "sjPlH45Q6jAP"
      },
      "execution_count": 27,
      "outputs": []
    },
    {
      "cell_type": "markdown",
      "source": [
        "User defined function for Pascals's triangle - WORKS (no break statement)"
      ],
      "metadata": {
        "id": "RUUlkGe16jwd"
      }
    },
    {
      "cell_type": "code",
      "source": [
        "def pascals_triangle():\n",
        "  while True:\n",
        "\n",
        "    try:\n",
        "      user_rows = input(\"Enter the number of rows: \")\n",
        "      if user_rows[0] == '-':\n",
        "        print(\"Please enter a positie integer. \")\n",
        "        continue\n",
        "\n",
        "      user_rows = int(user_rows)\n",
        "    except ValueError:\n",
        "      print(\"Please enter an integer.\")\n",
        "      continue\n",
        "\n",
        "    for i in range(user_rows):\n",
        "        # Print leading spaces to align the triangle\n",
        "        print(\" \" * (user_rows - i - 1), end=\"\")\n",
        "\n",
        "        # Initialize starting value for the current row\n",
        "        coef = 1\n",
        "\n",
        "        # Loop through each value in the row\n",
        "        for j in range(i + 1):\n",
        "            # Print the current value and adjust spacing\n",
        "            print(coef, end=\" \")\n",
        "\n",
        "            # Calculate the next value using the binomial coefficient formula\n",
        "            coef = coef * (i - j) // (j + 1)\n",
        "\n",
        "        # Move to the next line after printing the row\n",
        "        print()\n",
        "        # DO NOT INCLUDE BREAK STATEMENT OR IT WONT PRINT RIGHT ######\n",
        "# cant put run_again in main"
      ],
      "metadata": {
        "id": "g2k4Qg0T6myz"
      },
      "execution_count": 28,
      "outputs": []
    },
    {
      "cell_type": "code",
      "source": [
        "\n",
        "# ok so say theres 5 rows\n",
        "# ----*----    1\n",
        "# ---***---   3      # FOR ROWS: so start with space, then go row - current row - 1 on each side then space,\n",
        "# --*****--   5      # FOR ELEMENTS: need another varibale(j i think or n ) for the row position, then current row(i) to next element so +1 on each side...\n",
        "# -*******-  7       # FOR VALUES: need another varibale for value in position in row so nested loop...\n",
        "# ********* 9        # for the value you need to multiply by something apparently so need to set starting value to something what\n"
      ],
      "metadata": {
        "id": "hSLZF77hQWx7"
      },
      "execution_count": 29,
      "outputs": []
    },
    {
      "cell_type": "markdown",
      "source": [
        "MAIN"
      ],
      "metadata": {
        "id": "dO3ARkky6m6z"
      }
    },
    {
      "cell_type": "code",
      "source": [
        "while True:\n",
        "  # for user to chose the program\n",
        "  program_choice = input(\"Enter the program you would like to run: ('p' for prime nums or 't' for pascals triangle: )\")\n",
        "\n",
        "  # in case user enters an invalid program choice\n",
        "  if program_choice != 't' and program_choice != 'p':\n",
        "    print(\"Invalid choice. Please try again. \")\n",
        "    continue\n",
        "\n",
        "  # FOR PRIME NUMBER CALCULATOR\n",
        "  elif program_choice == 'p':\n",
        "    prime_num()\n",
        "\n",
        "    run_again = input(\"Would you like to run the program again? ('y' for yes, 'stop' to exit. ): \") # MUST BE IN MAIN WILL NOT WORK IN USER DEF FUNCT\n",
        "    if run_again != 'y':\n",
        "      break\n",
        "    else:\n",
        "      prime_num()\n",
        "\n",
        "  # FOR PASCALS TRIANGLE\n",
        "  elif program_choice == 't':\n",
        "    pascals_triangle()\n",
        "    run_pascal = input(\"Would you like to run the program again? ('y' for yes, 'stop' to exit. \") # AGAIN, PUT IN MAIN\n",
        "\n",
        "    if run_pascal != 'y':\n",
        "      break\n",
        "    else:\n",
        "      pascals_triangle()\n",
        "\n",
        "\n",
        "  # invlaid choice\n",
        "  else:\n",
        "    print(\"invalid choice. Please try again. /n\")\n",
        "    continue\n",
        "# run program again (while loop)\n",
        "  run_program_again = input(\"Would you like to run the program again? ('y' for yes, 'stop' to exit): \")\n",
        "  if run_program_again != 'y':\n",
        "    break\n",
        "\n"
      ],
      "metadata": {
        "colab": {
          "base_uri": "https://localhost:8080/"
        },
        "id": "PigllSA56n41",
        "outputId": "e495e64a-0227-46e4-b545-1681cee7bf37"
      },
      "execution_count": 30,
      "outputs": [
        {
          "name": "stdout",
          "output_type": "stream",
          "text": [
            "Enter the program you would like to run: ('p' for prime nums or 't' for pascals triangle: )p\n",
            "Enter the first number: 100\n",
            "2\n",
            "3\n",
            "5\n",
            "7\n",
            "11\n",
            "13\n",
            "17\n",
            "19\n",
            "23\n",
            "29\n",
            "31\n",
            "37\n",
            "41\n",
            "43\n",
            "47\n",
            "53\n",
            "59\n",
            "61\n",
            "67\n",
            "71\n",
            "73\n",
            "79\n",
            "83\n",
            "89\n",
            "97\n",
            "Would you like to run the program again? ('y' for yes, 'stop' to exit. ): stop\n"
          ]
        }
      ]
    },
    {
      "cell_type": "markdown",
      "source": [
        "ENTIRE PROGRAM SHOULD RUN AS EXPECTED. ENTER 'stop' TO EXIT."
      ],
      "metadata": {
        "id": "iUWZQftSL7AB"
      }
    }
  ]
}